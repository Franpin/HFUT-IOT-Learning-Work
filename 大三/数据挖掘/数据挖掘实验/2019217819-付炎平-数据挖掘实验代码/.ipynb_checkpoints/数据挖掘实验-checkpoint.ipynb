{
 "cells": [
  {
   "cell_type": "code",
   "execution_count": 1,
   "id": "a83b501a",
   "metadata": {},
   "outputs": [],
   "source": [
    "import pandas as pd\n",
    "import numpy as np\n",
    "import re\n",
    "import jieba\n"
   ]
  },
  {
   "cell_type": "code",
   "execution_count": 2,
   "id": "622a9729",
   "metadata": {},
   "outputs": [],
   "source": [
    "df=pd.read_csv('./dataset/simplifyweibo_4_moods.csv')"
   ]
  },
  {
   "cell_type": "code",
   "execution_count": 3,
   "id": "83140a28",
   "metadata": {},
   "outputs": [],
   "source": [
    "label=np.array(df['label'])"
   ]
  },
  {
   "cell_type": "code",
   "execution_count": 59,
   "id": "8cc08368",
   "metadata": {},
   "outputs": [
    {
     "data": {
      "text/plain": [
       "array([0, 0, 0, ..., 3, 3, 3], dtype=int64)"
      ]
     },
     "execution_count": 59,
     "metadata": {},
     "output_type": "execute_result"
    }
   ],
   "source": []
  },
  {
   "cell_type": "code",
   "execution_count": 4,
   "id": "997f9011",
   "metadata": {},
   "outputs": [],
   "source": [
    "data=df.iloc[:,1:3]\n"
   ]
  },
  {
   "cell_type": "code",
   "execution_count": 5,
   "id": "96d56f81",
   "metadata": {},
   "outputs": [],
   "source": [
    "data=np.array(data).tolist()\n"
   ]
  },
  {
   "cell_type": "code",
   "execution_count": 6,
   "id": "497b5737",
   "metadata": {},
   "outputs": [
    {
     "data": {
      "text/plain": [
       "['嗯……既然大姚通知了……那我也表示下收到……姚，你知道吗？假如外星人入侵地球，只要摧毁我们的网络，地球就完蛋了！我恐惧的望着她，越看越觉得阿粥就是外星人，她一定是想让我写微薄通知一下大家。。。']"
      ]
     },
     "execution_count": 6,
     "metadata": {},
     "output_type": "execute_result"
    }
   ],
   "source": [
    "data[1]"
   ]
  },
  {
   "cell_type": "code",
   "execution_count": 7,
   "id": "cf30a225",
   "metadata": {},
   "outputs": [
    {
     "name": "stderr",
     "output_type": "stream",
     "text": [
      "Building prefix dict from the default dictionary ...\n",
      "Loading model from cache C:\\Users\\Franpin\\AppData\\Local\\Temp\\jieba.cache\n",
      "Loading model cost 0.689 seconds.\n",
      "Prefix dict has been built successfully.\n"
     ]
    }
   ],
   "source": [
    "data_lst=[]\n",
    "for sentence in data:\n",
    "    \n",
    "    out = re.sub(r'[^\\w\\s]','',sentence[0])#去掉标点\n",
    "    out=''.join(out.split())\n",
    "    \n",
    "    lst=' '.join(jieba.cut(out, cut_all=False))\n",
    "    data_lst.append(lst)"
   ]
  },
  {
   "cell_type": "code",
   "execution_count": 22,
   "id": "bff78b1c",
   "metadata": {},
   "outputs": [],
   "source": [
    "data_lst=np.array(data_lst)\n",
    "np.savetxt('words.txt',data_lst,fmt = '%s',encoding='utf-8',delimiter=\",\")"
   ]
  },
  {
   "cell_type": "code",
   "execution_count": 23,
   "id": "782a61c5",
   "metadata": {},
   "outputs": [],
   "source": [
    "data=np.loadtxt('words.txt',dtype=np.str_,encoding='utf-8',delimiter=\",\")"
   ]
  },
  {
   "cell_type": "code",
   "execution_count": null,
   "id": "20998227",
   "metadata": {},
   "outputs": [],
   "source": []
  },
  {
   "cell_type": "code",
   "execution_count": 25,
   "id": "c0f4c3cd",
   "metadata": {},
   "outputs": [
    {
     "data": {
      "text/plain": [
       "array(['啊呀呀 要死 啦 么 么 么 只 穿 外套 就 好 了 我 认为 里面 那 件 很多 余 啊 周小伦 喜歡 你 各種 五角星 的 項鏈 和 露 胸 的 衣服 XD 伦伦 啊 你 真的 是 越来越 帅 了',\n",
       "       '嗯 既然 大姚 通知 了 那 我 也 表示 下 收到 姚 你 知道 吗 假如 外星人 入侵 地球 只要 摧毁 我们 的 网络 地球 就 完蛋 了 我 恐惧 的 望 着 她 越 看 越 觉得 阿粥 就是 外星人 她 一定 是 想 让 我 写 微薄 通知 一下 大家',\n",
       "       '风格 不 一样 嘛 都 喜欢 最 喜欢 哪张', ..., '巴西 要 回家 啦',\n",
       "       '派 啦 諗 咩 吖 撐 呀 十五 十六 之而家 已經 差不多 十一月 仲派 唔 派 歌 好 呢 定 係 出年 先派 呢 各位 行家 可否 給我少 少意 見',\n",
       "       '发觉 呢 个 期末 特别 懒 死硬 啦 死硬 啦 我 要 静心 复习 啊'], dtype='<U451')"
      ]
     },
     "execution_count": 25,
     "metadata": {},
     "output_type": "execute_result"
    }
   ],
   "source": [
    "data"
   ]
  },
  {
   "cell_type": "code",
   "execution_count": 62,
   "id": "0a8e19df",
   "metadata": {},
   "outputs": [],
   "source": [
    "from sklearn.model_selection import train_test_split\n",
    "x_train, x_test,  y_train, y_test = train_test_split(data, label, \n",
    "                                                     test_size = 0.3, random_state = 7)"
   ]
  },
  {
   "cell_type": "code",
   "execution_count": 66,
   "id": "e1514d35",
   "metadata": {},
   "outputs": [
    {
     "data": {
      "text/plain": [
       "(253220,)"
      ]
     },
     "execution_count": 66,
     "metadata": {},
     "output_type": "execute_result"
    }
   ],
   "source": [
    "x_train.shape\n"
   ]
  },
  {
   "cell_type": "code",
   "execution_count": 67,
   "id": "96dd9024",
   "metadata": {},
   "outputs": [
    {
     "data": {
      "text/plain": [
       "(108524,)"
      ]
     },
     "execution_count": 67,
     "metadata": {},
     "output_type": "execute_result"
    }
   ],
   "source": [
    "x_test.shape"
   ]
  },
  {
   "cell_type": "code",
   "execution_count": 80,
   "id": "696ec040",
   "metadata": {},
   "outputs": [
    {
     "name": "stdout",
     "output_type": "stream",
     "text": [
      "0.5626865946703034\n"
     ]
    }
   ],
   "source": [
    "from sklearn.feature_extraction.text import CountVectorizer\n",
    "from sklearn.feature_extraction.text import TfidfTransformer\n",
    "from sklearn.naive_bayes import MultinomialNB\n",
    "from sklearn.pipeline import Pipeline\n",
    "\n",
    "#  朴素贝叶斯 MultinomialNB在测试集上的性能评估\n",
    "clf = Pipeline([('vect', CountVectorizer()),\n",
    "                      ('tfidf', TfidfTransformer()),\n",
    "                      ('clf', MultinomialNB()),])\n",
    "clf.fit(x_train,y_train)\n",
    "y_pred=clf.predict(x_test)\n",
    "print(np.mean(y_pred == y_test))"
   ]
  },
  {
   "cell_type": "code",
   "execution_count": 81,
   "id": "22f07cda",
   "metadata": {},
   "outputs": [
    {
     "name": "stdout",
     "output_type": "stream",
     "text": [
      "0.5513342670745641\n"
     ]
    }
   ],
   "source": [
    "from sklearn.feature_extraction.text import CountVectorizer\n",
    "from sklearn.feature_extraction.text import TfidfTransformer\n",
    "from sklearn.linear_model import SGDClassifier\n",
    "from sklearn.pipeline import Pipeline\n",
    "\n",
    "#  朴素贝叶斯 MultinomialNB在测试集上的性能评估\n",
    "clf = Pipeline([('vect', CountVectorizer()),\n",
    "                      ('tfidf', TfidfTransformer()),\n",
    "                      ('clf', SGDClassifier(loss='hinge',penalty='l2',\n",
    "                                            alpha=1e-3, random_state=42,\n",
    "                                            max_iter=5, tol=None)),])\n",
    "clf.fit(x_train,y_train)\n",
    "y_pred=clf.predict(x_test)\n",
    "print(np.mean(y_pred == y_test))"
   ]
  },
  {
   "cell_type": "code",
   "execution_count": 84,
   "id": "0f434968",
   "metadata": {},
   "outputs": [
    {
     "name": "stdout",
     "output_type": "stream",
     "text": [
      "0.5513342670745641\n"
     ]
    }
   ],
   "source": [
    "# KNN KNeighborsClassifier 在测试集上的性能评估\n",
    "from sklearn.neighbors import KNeighborsClassifier\n",
    "clf = Pipeline([('vect', CountVectorizer()),\n",
    "                      ('tfidf', TfidfTransformer()),\n",
    "                      ('clf', KNeighborsClassifier()),])\n",
    "clf.fit(x_train, y_train)\n",
    "predicted = clf.predict(x_test)\n",
    "print(np.mean(y_pred == y_test))"
   ]
  },
  {
   "cell_type": "code",
   "execution_count": null,
   "id": "1f2ffdf9",
   "metadata": {},
   "outputs": [],
   "source": []
  }
 ],
 "metadata": {
  "kernelspec": {
   "display_name": "Python 3",
   "language": "python",
   "name": "python3"
  },
  "language_info": {
   "codemirror_mode": {
    "name": "ipython",
    "version": 3
   },
   "file_extension": ".py",
   "mimetype": "text/x-python",
   "name": "python",
   "nbconvert_exporter": "python",
   "pygments_lexer": "ipython3",
   "version": "3.8.8"
  }
 },
 "nbformat": 4,
 "nbformat_minor": 5
}
