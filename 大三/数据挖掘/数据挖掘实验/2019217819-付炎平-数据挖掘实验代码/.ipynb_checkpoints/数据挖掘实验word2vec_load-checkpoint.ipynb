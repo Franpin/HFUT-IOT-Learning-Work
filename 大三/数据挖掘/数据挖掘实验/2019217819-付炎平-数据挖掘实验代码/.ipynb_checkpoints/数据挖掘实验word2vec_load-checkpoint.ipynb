{
 "cells": [
  {
   "cell_type": "code",
   "execution_count": null,
   "id": "252d14a2",
   "metadata": {},
   "outputs": [],
   "source": [
    "import gensim\n",
    "\n",
    "with open('words.txt','r',encoding='utf-8') as f:\n",
    "    data=f.readlines()\n",
    "data=[x.split() for x in data]\n",
    "\n",
    "model=gensim.models.Word2Vec(data,sg=1,vector_size=100,\n",
    "                            window=5,min_count=2,negative=3,sample=0.001,hs=1,workers=4)\n",
    "\n",
    "# model.save('word2vec.pkl')\n",
    "model.wv.save_word2vec_format(\"word2vec_model2\")"
   ]
  },
  {
   "cell_type": "code",
   "execution_count": 12,
   "id": "ea3bd4af",
   "metadata": {},
   "outputs": [],
   "source": [
    "import numpy as np\n",
    "import gensim\n",
    "from gensim.models import KeyedVectors,word2vec,Word2Vec\n",
    "\n",
    "# 最适用在该问题上的变种是多项式分类器:\n",
    "from sklearn.naive_bayes import MultinomialNB\n",
    "\n",
    "model = KeyedVectors.load_word2vec_format('word2vec_model')\n",
    "with open('words.txt','r',encoding='utf-8') as f:\n",
    "    data=f.readlines()\n",
    "data=[x.split() for x in data]\n",
    "text_vec = np.zeros((len(data), 100))\n",
    "s=np.zeros(100)\n",
    "for i,sentence in enumerate(data):\n",
    "    lenth=len(sentence)\n",
    "    vec=0\n",
    "    if lenth==0:\n",
    "        text_vec[i]=0\n",
    "        continue\n",
    "    for word in sentence:\n",
    "        try:\n",
    "            # print(\"lenth:\",lenth)\n",
    "            \n",
    "            vec=vec+model[word]\n",
    "            # print(vec)\n",
    "            # break\n",
    "        except:\n",
    "            pass\n",
    "        # break\n",
    "    # print(lenth,sentence)\n",
    "    text_vec[i]=vec/lenth\n"
   ]
  },
  {
   "cell_type": "code",
   "execution_count": 13,
   "id": "fadf25aa",
   "metadata": {},
   "outputs": [
    {
     "data": {
      "text/plain": [
       "(361744, 100)"
      ]
     },
     "execution_count": 13,
     "metadata": {},
     "output_type": "execute_result"
    }
   ],
   "source": [
    "text_vec.shape"
   ]
  },
  {
   "cell_type": "code",
   "execution_count": 14,
   "id": "5df2c70d",
   "metadata": {},
   "outputs": [
    {
     "data": {
      "text/plain": [
       "0.02995404042303562"
      ]
     },
     "execution_count": 14,
     "metadata": {},
     "output_type": "execute_result"
    }
   ],
   "source": [
    "text_vec[0][0]"
   ]
  },
  {
   "cell_type": "code",
   "execution_count": 15,
   "id": "c36f6dff",
   "metadata": {},
   "outputs": [],
   "source": [
    "import pandas as pd\n",
    "import numpy as np\n",
    "import re\n",
    "import jieba\n",
    "from sklearn.model_selection import train_test_split\n",
    "df=pd.read_csv('./dataset/simplifyweibo_4_moods.csv')\n",
    "label=np.array(df['label'])\n",
    "x_train, x_test,  y_train, y_test = train_test_split(text_vec, label, \n",
    "                                                     test_size = 0.3, random_state = 7)"
   ]
  },
  {
   "cell_type": "code",
   "execution_count": 16,
   "id": "37f921c5",
   "metadata": {},
   "outputs": [
    {
     "data": {
      "text/plain": [
       "(253220, 100)"
      ]
     },
     "execution_count": 16,
     "metadata": {},
     "output_type": "execute_result"
    }
   ],
   "source": [
    "x_train.shape"
   ]
  },
  {
   "cell_type": "code",
   "execution_count": 17,
   "id": "8469ea59",
   "metadata": {},
   "outputs": [
    {
     "data": {
      "text/plain": [
       "(253220,)"
      ]
     },
     "execution_count": 17,
     "metadata": {},
     "output_type": "execute_result"
    }
   ],
   "source": [
    "y_train.shape"
   ]
  },
  {
   "cell_type": "code",
   "execution_count": 18,
   "id": "9e93d015",
   "metadata": {},
   "outputs": [
    {
     "data": {
      "text/plain": [
       "0.08515947312116623"
      ]
     },
     "execution_count": 18,
     "metadata": {},
     "output_type": "execute_result"
    }
   ],
   "source": [
    "x_train[1][0]"
   ]
  },
  {
   "cell_type": "code",
   "execution_count": 20,
   "id": "7494196b",
   "metadata": {},
   "outputs": [],
   "source": [
    "\n",
    "from sklearn import preprocessing\n",
    " \n",
    "def min_max_normalization(np_array):\n",
    "    min_max_scaler = preprocessing.MinMaxScaler()\n",
    "    ret = min_max_scaler.fit_transform(np_array)\n",
    "    return ret"
   ]
  },
  {
   "cell_type": "code",
   "execution_count": 25,
   "id": "f8bbd5d1",
   "metadata": {},
   "outputs": [
    {
     "data": {
      "text/plain": [
       "array([[ 0.09984205, -0.04793688,  0.13779208, ...,  0.01368982,\n",
       "        -0.16868156,  0.21363528],\n",
       "       [-0.03961594,  0.19728264,  0.33191445, ..., -0.20595407,\n",
       "         0.01898921,  0.27663508],\n",
       "       [-0.0119718 ,  0.17161299,  0.04994805, ..., -0.03091984,\n",
       "         0.39790821,  0.36295405],\n",
       "       ...,\n",
       "       [-0.36354077,  0.05283447,  0.19970873, ...,  0.1817304 ,\n",
       "        -0.44435209,  0.46720973],\n",
       "       [-0.01720248, -0.02013718,  0.13478026, ..., -0.06721738,\n",
       "         0.0146617 ,  0.50391895],\n",
       "       [ 0.06810381,  0.12254405,  0.15435861, ...,  0.00800709,\n",
       "        -0.12650511,  0.27033201]])"
      ]
     },
     "execution_count": 25,
     "metadata": {},
     "output_type": "execute_result"
    }
   ],
   "source": [
    "x_test"
   ]
  },
  {
   "cell_type": "code",
   "execution_count": 21,
   "id": "cf11c78e",
   "metadata": {},
   "outputs": [],
   "source": [
    "x_train=min_max_normalization(x_train)\n"
   ]
  },
  {
   "cell_type": "code",
   "execution_count": 26,
   "id": "1838a86f",
   "metadata": {},
   "outputs": [],
   "source": [
    "x_test=min_max_normalization(x_test)"
   ]
  },
  {
   "cell_type": "code",
   "execution_count": 27,
   "id": "5623c4b8",
   "metadata": {},
   "outputs": [
    {
     "data": {
      "text/plain": [
       "array([[0.67032665, 0.53392969, 0.35516857, ..., 0.58374134, 0.33204326,\n",
       "        0.33406183],\n",
       "       [0.59433355, 0.68777485, 0.46140768, ..., 0.47704822, 0.43374789,\n",
       "        0.36289715],\n",
       "       [0.60939732, 0.6716703 , 0.30709337, ..., 0.56207197, 0.63909587,\n",
       "        0.40240576],\n",
       "       ...,\n",
       "       [0.41782123, 0.59715135, 0.38905426, ..., 0.66536789, 0.18264884,\n",
       "        0.45012409],\n",
       "       [0.60654704, 0.55137059, 0.35352026, ..., 0.54444026, 0.43140267,\n",
       "        0.46692607],\n",
       "       [0.65303193, 0.64088556, 0.36423508, ..., 0.58098092, 0.35489999,\n",
       "        0.3600122 ]])"
      ]
     },
     "execution_count": 27,
     "metadata": {},
     "output_type": "execute_result"
    }
   ],
   "source": [
    "x_test"
   ]
  },
  {
   "cell_type": "code",
   "execution_count": 28,
   "id": "7c0596bc",
   "metadata": {},
   "outputs": [
    {
     "name": "stdout",
     "output_type": "stream",
     "text": [
      "0.5513342670745641\n"
     ]
    }
   ],
   "source": [
    "from sklearn.feature_extraction.text import CountVectorizer\n",
    "from sklearn.feature_extraction.text import TfidfTransformer\n",
    "from sklearn.naive_bayes import MultinomialNB\n",
    "from sklearn.pipeline import Pipeline\n",
    "\n",
    "#  朴素贝叶斯 MultinomialNB在测试集上的性能评估\n",
    "clf = Pipeline([('clf', MultinomialNB()),])\n",
    "clf.fit(x_train,y_train)\n",
    "y_pred=clf.predict(x_test)\n",
    "print(np.mean(y_pred == y_test))"
   ]
  },
  {
   "cell_type": "code",
   "execution_count": 29,
   "id": "907fb68e",
   "metadata": {},
   "outputs": [
    {
     "name": "stdout",
     "output_type": "stream",
     "text": [
      "0.569477719214183\n"
     ]
    }
   ],
   "source": [
    "# from sklearn.feature_extraction.text import CountVectorizer\n",
    "# from sklearn.feature_extraction.text import TfidfTransformer\n",
    "from sklearn.linear_model import SGDClassifier\n",
    "from sklearn.pipeline import Pipeline\n",
    "\n",
    "#  朴素贝叶斯 MultinomialNB在测试集上的性能评估\n",
    "clf = Pipeline([('clf', SGDClassifier(loss='hinge',penalty='l2',\n",
    "                                        alpha=1e-3, random_state=42,\n",
    "                                        max_iter=5, tol=None)),])\n",
    "clf.fit(x_train,y_train)\n",
    "y_pred=clf.predict(x_test)\n",
    "print(np.mean(y_pred == y_test))"
   ]
  },
  {
   "cell_type": "code",
   "execution_count": 30,
   "id": "174ee772",
   "metadata": {},
   "outputs": [
    {
     "data": {
      "text/plain": [
       "0.569477719214183"
      ]
     },
     "execution_count": 30,
     "metadata": {},
     "output_type": "execute_result"
    }
   ],
   "source": [
    "from sklearn.metrics import accuracy_score\n",
    "accuracy_score(y_pred,y_test)"
   ]
  },
  {
   "cell_type": "code",
   "execution_count": 35,
   "id": "5c4f70c9",
   "metadata": {},
   "outputs": [
    {
     "name": "stdout",
     "output_type": "stream",
     "text": [
      "[3 3 2 ... 0 1 3]\n"
     ]
    }
   ],
   "source": [
    "print(y_test)"
   ]
  },
  {
   "cell_type": "code",
   "execution_count": null,
   "id": "54d93880",
   "metadata": {},
   "outputs": [],
   "source": []
  }
 ],
 "metadata": {
  "kernelspec": {
   "display_name": "Python 3",
   "language": "python",
   "name": "python3"
  },
  "language_info": {
   "codemirror_mode": {
    "name": "ipython",
    "version": 3
   },
   "file_extension": ".py",
   "mimetype": "text/x-python",
   "name": "python",
   "nbconvert_exporter": "python",
   "pygments_lexer": "ipython3",
   "version": "3.8.8"
  }
 },
 "nbformat": 4,
 "nbformat_minor": 5
}
