{
 "cells": [
  {
   "cell_type": "code",
   "execution_count": 3,
   "id": "79f18a93",
   "metadata": {},
   "outputs": [],
   "source": [
    "from sklearn.datasets import fetch_20newsgroups\n",
    "# from gensim.models import word2vec\n",
    "# import gensim\n",
    "import nltk\n",
    "from nltk.tokenize import word_tokenize\n",
    "from sklearn.feature_extraction.text import CountVectorizer\n",
    "from sklearn.feature_extraction.text import TfidfTransformer\n",
    "# 最适用在该问题上的变种是多项式分类器:\n",
    "from sklearn.naive_bayes import MultinomialNB\n",
    "# 在测试集上的性能评估\n",
    "import numpy as np\n",
    "categories = ['alt.atheism', 'soc.religion.christian','comp.graphics', 'sci.med']\n",
    "twenty_train = fetch_20newsgroups(data_home='./dataset',subset='train',\n",
    "                                  categories=categories,shuffle=True,random_state=42)\n",
    "\n",
    "twenty_test = fetch_20newsgroups(data_home='./dataset',subset='test',\n",
    "                                 categories=categories, shuffle=True, random_state=42)\n",
    "\n",
    "docs_test = twenty_test.data"
   ]
  },
  {
   "cell_type": "code",
   "execution_count": null,
   "id": "488e51b2",
   "metadata": {},
   "outputs": [],
   "source": [
    "len(twenty_train.data)"
   ]
  },
  {
   "cell_type": "code",
   "execution_count": 5,
   "id": "4cc164a9",
   "metadata": {},
   "outputs": [
    {
     "name": "stderr",
     "output_type": "stream",
     "text": [
      "[nltk_data] Downloading package punkt to\n",
      "[nltk_data]     C:\\Users\\Franpin\\AppData\\Roaming\\nltk_data...\n",
      "[nltk_data]   Package punkt is already up-to-date!\n"
     ]
    },
    {
     "data": {
      "text/plain": [
       "True"
      ]
     },
     "execution_count": 5,
     "metadata": {},
     "output_type": "execute_result"
    }
   ],
   "source": [
    "nltk.download('punkt')"
   ]
  },
  {
   "cell_type": "code",
   "execution_count": 6,
   "id": "cb6edd41",
   "metadata": {},
   "outputs": [],
   "source": [
    "import pandas as pd\n",
    "stopwords=pd.read_table('stopwords/baidu_stopwords.txt',\n",
    "                        names=['words'],encoding='utf-8')\n"
   ]
  },
  {
   "cell_type": "code",
   "execution_count": 9,
   "id": "db65f35e",
   "metadata": {},
   "outputs": [
    {
     "ename": "KeyboardInterrupt",
     "evalue": "",
     "output_type": "error",
     "traceback": [
      "\u001b[1;31m---------------------------------------------------------------------------\u001b[0m",
      "\u001b[1;31mKeyboardInterrupt\u001b[0m                         Traceback (most recent call last)",
      "\u001b[1;32m<ipython-input-9-41084d18d8bc>\u001b[0m in \u001b[0;36m<module>\u001b[1;34m\u001b[0m\n\u001b[0;32m      4\u001b[0m \u001b[1;32mfor\u001b[0m \u001b[0msentence\u001b[0m \u001b[1;32min\u001b[0m \u001b[0mtwenty_train\u001b[0m\u001b[1;33m.\u001b[0m\u001b[0mdata\u001b[0m\u001b[1;33m:\u001b[0m\u001b[1;33m\u001b[0m\u001b[1;33m\u001b[0m\u001b[0m\n\u001b[0;32m      5\u001b[0m     \u001b[0mout\u001b[0m \u001b[1;33m=\u001b[0m \u001b[0mre\u001b[0m\u001b[1;33m.\u001b[0m\u001b[0msub\u001b[0m\u001b[1;33m(\u001b[0m\u001b[1;34mr'[^\\w\\s]'\u001b[0m\u001b[1;33m,\u001b[0m\u001b[1;34m''\u001b[0m\u001b[1;33m,\u001b[0m\u001b[0msentence\u001b[0m\u001b[1;33m)\u001b[0m\u001b[1;31m#去掉符号\u001b[0m\u001b[1;33m\u001b[0m\u001b[1;33m\u001b[0m\u001b[0m\n\u001b[1;32m----> 6\u001b[1;33m     words = [word for word in word_tokenize(out) \n\u001b[0m\u001b[0;32m      7\u001b[0m              if word not in list(stopwords['words'])]#去停用词\n\u001b[0;32m      8\u001b[0m     \u001b[0mlst\u001b[0m\u001b[1;33m=\u001b[0m\u001b[1;34m' '\u001b[0m\u001b[1;33m.\u001b[0m\u001b[0mjoin\u001b[0m\u001b[1;33m(\u001b[0m\u001b[0mwords\u001b[0m\u001b[1;33m)\u001b[0m\u001b[1;33m\u001b[0m\u001b[1;33m\u001b[0m\u001b[0m\n",
      "\u001b[1;32m<ipython-input-9-41084d18d8bc>\u001b[0m in \u001b[0;36m<listcomp>\u001b[1;34m(.0)\u001b[0m\n\u001b[0;32m      5\u001b[0m     \u001b[0mout\u001b[0m \u001b[1;33m=\u001b[0m \u001b[0mre\u001b[0m\u001b[1;33m.\u001b[0m\u001b[0msub\u001b[0m\u001b[1;33m(\u001b[0m\u001b[1;34mr'[^\\w\\s]'\u001b[0m\u001b[1;33m,\u001b[0m\u001b[1;34m''\u001b[0m\u001b[1;33m,\u001b[0m\u001b[0msentence\u001b[0m\u001b[1;33m)\u001b[0m\u001b[1;31m#去掉符号\u001b[0m\u001b[1;33m\u001b[0m\u001b[1;33m\u001b[0m\u001b[0m\n\u001b[0;32m      6\u001b[0m     words = [word for word in word_tokenize(out) \n\u001b[1;32m----> 7\u001b[1;33m              if word not in list(stopwords['words'])]#去停用词\n\u001b[0m\u001b[0;32m      8\u001b[0m     \u001b[0mlst\u001b[0m\u001b[1;33m=\u001b[0m\u001b[1;34m' '\u001b[0m\u001b[1;33m.\u001b[0m\u001b[0mjoin\u001b[0m\u001b[1;33m(\u001b[0m\u001b[0mwords\u001b[0m\u001b[1;33m)\u001b[0m\u001b[1;33m\u001b[0m\u001b[1;33m\u001b[0m\u001b[0m\n\u001b[0;32m      9\u001b[0m     \u001b[0mtrain_lst\u001b[0m\u001b[1;33m.\u001b[0m\u001b[0mappend\u001b[0m\u001b[1;33m(\u001b[0m\u001b[0mlst\u001b[0m\u001b[1;33m)\u001b[0m\u001b[1;33m\u001b[0m\u001b[1;33m\u001b[0m\u001b[0m\n",
      "\u001b[1;31mKeyboardInterrupt\u001b[0m: "
     ]
    }
   ],
   "source": [
    "import re\n",
    "train_lst=[]\n",
    "test_lst=[]\n",
    "for sentence in twenty_train.data:\n",
    "    out = re.sub(r'[^\\w\\s]','',sentence)#去掉符号\n",
    "    words = [word for word in word_tokenize(out) \n",
    "             if word not in list(stopwords['words'])]#去停用词\n",
    "    lst=' '.join(words)\n",
    "    train_lst.append(lst)\n",
    "\n",
    "for sentence in twenty_test.data:\n",
    "    out = re.sub(r'[^\\w\\s]','',sentence)#去掉符号\n",
    "    words = [word for word in word_tokenize(out) \n",
    "             if word not in list(stopwords['words'])]#去停用词\n",
    "    lst=' '.join(words)\n",
    "    test_lst.append(lst)"
   ]
  },
  {
   "cell_type": "code",
   "execution_count": 79,
   "id": "f9346062",
   "metadata": {},
   "outputs": [],
   "source": [
    "np.savetxt('words_news_train.txt',train_lst,fmt = '%s',encoding='utf-8',delimiter=\",\")\n",
    "np.savetxt('words_news_test.txt',test_lst,fmt = '%s',encoding='utf-8',delimiter=\",\")"
   ]
  },
  {
   "cell_type": "code",
   "execution_count": 2,
   "id": "a92f001b",
   "metadata": {},
   "outputs": [],
   "source": [
    "with open('words_news_train.txt','r',encoding='utf-8') as f:\n",
    "    train_lst=f.readlines()\n",
    "train_lst=[x.split() for x in train_lst]\n",
    "with open('words_news_test.txt','r',encoding='utf-8') as f:\n",
    "    test_lst=f.readlines()\n",
    "test_lst=[x.split() for x in test_lst]"
   ]
  },
  {
   "cell_type": "code",
   "execution_count": 3,
   "id": "e4977a86",
   "metadata": {},
   "outputs": [
    {
     "name": "stderr",
     "output_type": "stream",
     "text": [
      "<ipython-input-3-d80e8da3a40f>:1: VisibleDeprecationWarning: Creating an ndarray from ragged nested sequences (which is a list-or-tuple of lists-or-tuples-or ndarrays with different lengths or shapes) is deprecated. If you meant to do this, you must specify 'dtype=object' when creating the ndarray\n",
      "  train_lst=np.array(train_lst)\n",
      "<ipython-input-3-d80e8da3a40f>:2: VisibleDeprecationWarning: Creating an ndarray from ragged nested sequences (which is a list-or-tuple of lists-or-tuples-or ndarrays with different lengths or shapes) is deprecated. If you meant to do this, you must specify 'dtype=object' when creating the ndarray\n",
      "  test_lst=np.array(test_lst)\n"
     ]
    }
   ],
   "source": [
    "train_lst=np.array(train_lst)\n",
    "test_lst=np.array(test_lst)"
   ]
  },
  {
   "cell_type": "code",
   "execution_count": 4,
   "id": "c27de2e3",
   "metadata": {},
   "outputs": [],
   "source": [
    "data=np.hstack((train_lst,test_lst))"
   ]
  },
  {
   "cell_type": "code",
   "execution_count": 83,
   "id": "4e2a9a32",
   "metadata": {},
   "outputs": [
    {
     "data": {
      "text/plain": [
       "(3759,)"
      ]
     },
     "execution_count": 83,
     "metadata": {},
     "output_type": "execute_result"
    }
   ],
   "source": [
    "data.shape"
   ]
  },
  {
   "cell_type": "code",
   "execution_count": 84,
   "id": "3aef117f",
   "metadata": {},
   "outputs": [],
   "source": [
    "import gensim\n",
    "model=gensim.models.Word2Vec(data,sg=1,vector_size=100,\n",
    "                            window=5,min_count=2,negative=3,\n",
    "                             sample=0.001,hs=1,workers=4)\n",
    "\n",
    "model.wv.save_word2vec_format(\"word2vec_model_news\")"
   ]
  },
  {
   "cell_type": "code",
   "execution_count": 1,
   "id": "6e3a63fd",
   "metadata": {},
   "outputs": [],
   "source": [
    "import numpy as np\n",
    "import gensim\n",
    "from gensim.models import KeyedVectors,word2vec,Word2Vec\n",
    "model = KeyedVectors.load_word2vec_format('word2vec_model_news')#加载模型"
   ]
  },
  {
   "cell_type": "code",
   "execution_count": 5,
   "id": "0cba8fbf",
   "metadata": {},
   "outputs": [],
   "source": [
    "train_text_vec = np.zeros((len(train_lst), 100))\n",
    "s=np.zeros(100)\n",
    "for i,sentence in enumerate(train_lst):\n",
    "    lenth=len(sentence)\n",
    "    vec=0\n",
    "    if lenth==0:\n",
    "        train_text_vec[i]=0\n",
    "        continue\n",
    "    for word in sentence:\n",
    "        try:\n",
    "            vec=vec+model[word]\n",
    "        except:\n",
    "            pass\n",
    "    train_text_vec[i]=vec/lenth\n",
    "test_text_vec = np.zeros((len(test_lst), 100))\n",
    "s=np.zeros(100)  \n",
    "for i,sentence in enumerate(test_lst):\n",
    "    lenth=len(sentence)\n",
    "    vec=0\n",
    "    if lenth==0:\n",
    "        test_text_vec[i]=0\n",
    "        continue\n",
    "    for word in sentence:\n",
    "        try:\n",
    "            vec=vec+model[word]\n",
    "        except:\n",
    "            pass\n",
    "    test_text_vec[i]=vec/lenth"
   ]
  },
  {
   "cell_type": "code",
   "execution_count": 6,
   "id": "71097422",
   "metadata": {},
   "outputs": [],
   "source": [
    "x_train=train_text_vec\n",
    "x_test=test_text_vec"
   ]
  },
  {
   "cell_type": "code",
   "execution_count": 7,
   "id": "7e118c47",
   "metadata": {},
   "outputs": [
    {
     "data": {
      "text/plain": [
       "(2257, 100)"
      ]
     },
     "execution_count": 7,
     "metadata": {},
     "output_type": "execute_result"
    }
   ],
   "source": [
    "x_train.shape"
   ]
  },
  {
   "cell_type": "code",
   "execution_count": 8,
   "id": "b64c0140",
   "metadata": {},
   "outputs": [
    {
     "data": {
      "text/plain": [
       "(1502, 100)"
      ]
     },
     "execution_count": 8,
     "metadata": {},
     "output_type": "execute_result"
    }
   ],
   "source": [
    "x_test.shape"
   ]
  },
  {
   "cell_type": "code",
   "execution_count": 9,
   "id": "da2e0dcb",
   "metadata": {},
   "outputs": [],
   "source": [
    "from sklearn import preprocessing\n",
    " \n",
    "def min_max_normalization(np_array):\n",
    "    min_max_scaler = preprocessing.MinMaxScaler()\n",
    "    ret = min_max_scaler.fit_transform(np_array)\n",
    "    return ret\n",
    "x_train=min_max_normalization(x_train)\n",
    "x_test=min_max_normalization(x_test)"
   ]
  },
  {
   "cell_type": "code",
   "execution_count": 10,
   "id": "13485e02",
   "metadata": {},
   "outputs": [],
   "source": [
    "# 朴素贝叶斯分类\n",
    "from sklearn.metrics import accuracy_score,f1_score,recall_score,precision_score\n",
    "from sklearn.naive_bayes import MultinomialNB\n",
    "text_clf =MultinomialNB()\n",
    "text_clf.fit(x_train, twenty_train.target)\n",
    "predicted = text_clf.predict(x_test)\n",
    "acc_score1=accuracy_score(predicted,twenty_test.target)\n",
    "recall_score1=recall_score(predicted,twenty_test.target,average='macro')\n",
    "f1_score1=f1_score(predicted,twenty_test.target,average='macro')\n",
    "pre_score1=precision_score(predicted,twenty_test.target,average='macro')"
   ]
  },
  {
   "cell_type": "code",
   "execution_count": 11,
   "id": "0994d484",
   "metadata": {},
   "outputs": [],
   "source": [
    "# 随机梯度下降分类器\n",
    "from sklearn.metrics import accuracy_score,f1_score,recall_score,precision_score\n",
    "from sklearn.linear_model import SGDClassifier\n",
    "text_clf =SGDClassifier()\n",
    "text_clf.fit(x_train, twenty_train.target)\n",
    "predicted = text_clf.predict(x_test)\n",
    "acc_score2=accuracy_score(predicted,twenty_test.target)\n",
    "recall_score2=recall_score(predicted,twenty_test.target,average='macro')\n",
    "f1_score2=f1_score(predicted,twenty_test.target,average='macro')\n",
    "pre_score2=precision_score(predicted,twenty_test.target,average='macro')"
   ]
  },
  {
   "cell_type": "code",
   "execution_count": 12,
   "id": "aa70e7c7",
   "metadata": {},
   "outputs": [],
   "source": [
    "# KNN分类器\n",
    "from sklearn.metrics import accuracy_score,f1_score,recall_score,precision_score\n",
    "from sklearn.neighbors import KNeighborsClassifier\n",
    "text_clf =KNeighborsClassifier()\n",
    "text_clf.fit(x_train, twenty_train.target)\n",
    "predicted = text_clf.predict(x_test)\n",
    "acc_score3=accuracy_score(predicted,twenty_test.target)\n",
    "recall_score3=recall_score(predicted,twenty_test.target,average='macro')\n",
    "f1_score3=f1_score(predicted,twenty_test.target,average='macro')\n",
    "pre_score3=precision_score(predicted,twenty_test.target,average='macro')"
   ]
  },
  {
   "cell_type": "code",
   "execution_count": 13,
   "id": "cbedb71d",
   "metadata": {
    "scrolled": true
   },
   "outputs": [],
   "source": [
    "from sklearn.metrics import accuracy_score,f1_score,recall_score,precision_score\n",
    "from sklearn.svm import SVC\n",
    "text_clf =SVC(decision_function_shape = 'ovo')\n",
    "text_clf.fit(x_train, twenty_train.target)\n",
    "predicted = text_clf.predict(x_test)\n",
    "acc_score4=accuracy_score(predicted,twenty_test.target)\n",
    "recall_score4=recall_score(predicted,twenty_test.target,average='macro')\n",
    "f1_score4=f1_score(predicted,twenty_test.target,average='macro')\n",
    "pre_score4=precision_score(predicted,twenty_test.target,average='macro')"
   ]
  },
  {
   "cell_type": "code",
   "execution_count": 14,
   "id": "1f32da27",
   "metadata": {},
   "outputs": [],
   "source": [
    "import torch\n"
   ]
  },
  {
   "cell_type": "code",
   "execution_count": 15,
   "id": "090e1ed1",
   "metadata": {},
   "outputs": [
    {
     "data": {
      "image/png": "[encoded data removed]",
      "text/plain": [
       "<Figure size 432x288 with 1 Axes>"
      ]
     },
     "metadata": {
      "needs_background": "light"
     },
     "output_type": "display_data"
    }
   ],
   "source": [
    "import matplotlib.pyplot as plt\n",
    "import numpy as np\n",
    "\n",
    "Mul_score=[acc_score1,recall_score1,f1_score1,pre_score1]\n",
    "SGD_score=[acc_score2,recall_score2,f1_score2,pre_score2]\n",
    "KNN_score=[acc_score3,recall_score3,f1_score3,pre_score3]\n",
    "SVM_score=[acc_score4,recall_score4,f1_score4,pre_score4]\n",
    "score=['accuracy','recall','f1','precision']\n",
    "plt.plot(score, Mul_score, color=\"r\", linestyle=\"-\", \n",
    "         marker=\"^\", linewidth=1, label=\"MultinomialNB\")\n",
    "plt.plot(score, SGD_score, color=\"b\", linestyle=\"-\",\n",
    "         marker=\"s\", linewidth=1, label=\"SGDClassifier\")\n",
    "plt.plot(score, KNN_score, color=\"g\", linestyle=\"-\",\n",
    "         marker=\"s\", linewidth=1, label=\"KNNClassifier\")\n",
    "plt.plot(score, SVM_score, color=\"y\", linestyle=\"-\",\n",
    "         marker=\"s\", linewidth=1, label=\"SVMClassifier\")\n",
    "plt.legend()\n",
    "plt.ylabel(\"Score\", loc='center')\n",
    "plt.xlabel(\"Metrics\", loc='center')\n",
    "plt.title(\"Word2Vec_CLS\")\n",
    "\n",
    "plt.show()"
   ]
  },
  {
   "cell_type": "code",
   "execution_count": null,
   "id": "9815cd3d",
   "metadata": {},
   "outputs": [],
   "source": []
  }
 ],
 "metadata": {
  "kernelspec": {
   "display_name": "Python 3",
   "language": "python",
   "name": "python3"
  },
  "language_info": {
   "codemirror_mode": {
    "name": "ipython",
    "version": 3
   },
   "file_extension": ".py",
   "mimetype": "text/x-python",
   "name": "python",
   "nbconvert_exporter": "python",
   "pygments_lexer": "ipython3",
   "version": "3.8.8"
  }
 },
 "nbformat": 4,
 "nbformat_minor": 5
}
