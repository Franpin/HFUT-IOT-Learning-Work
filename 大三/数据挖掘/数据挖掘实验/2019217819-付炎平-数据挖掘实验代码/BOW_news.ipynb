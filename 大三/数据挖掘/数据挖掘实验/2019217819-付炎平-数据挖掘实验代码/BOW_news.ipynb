{
 "cells": [
  {
   "cell_type": "code",
   "execution_count": null,
   "id": "ea28e007",
   "metadata": {},
   "outputs": [],
   "source": [
    "from sklearn.datasets import fetch_20newsgroups\n",
    "categories = ['alt.atheism', 'soc.religion.christian','comp.graphics', 'sci.med']\n",
    "twenty_train = fetch_20newsgroups(data_home='./dataset',subset='train',\n",
    "                                  categories=categories,shuffle=True,random_state=42)\n",
    "twenty_test = fetch_20newsgroups(data_home='./dataset',subset='test',\n",
    "                                 categories=categories, shuffle=True, random_state=42)\n"
   ]
  },
  {
   "cell_type": "code",
   "execution_count": null,
   "id": "6a246334",
   "metadata": {},
   "outputs": [],
   "source": [
    "twenty_train.data"
   ]
  },
  {
   "cell_type": "code",
   "execution_count": 2,
   "id": "f082981d",
   "metadata": {},
   "outputs": [],
   "source": [
    "from sklearn.feature_extraction.text import CountVectorizer\n",
    "# 在测试集上的性能评估\n",
    "import numpy as np\n",
    "Counter = CountVectorizer(stop_words='english')\n",
    "Counter.fit(twenty_train.data)\n",
    "Counter.fit(twenty_test.data)\n",
    "x_train_count=Counter.transform(twenty_train.data)\n",
    "x_test_count=Counter.transform(twenty_test.data)"
   ]
  },
  {
   "cell_type": "code",
   "execution_count": 3,
   "id": "6203b1d8",
   "metadata": {},
   "outputs": [
    {
     "name": "stdout",
     "output_type": "stream",
     "text": [
      "  (0, 119)\t2\n",
      "  (0, 423)\t1\n",
      "  (0, 1767)\t2\n",
      "  (0, 2352)\t1\n",
      "  (0, 3121)\t2\n",
      "  (0, 3417)\t1\n",
      "  (0, 4224)\t1\n",
      "  (0, 7156)\t4\n",
      "  (0, 7457)\t3\n",
      "  (0, 7718)\t1\n",
      "  (0, 8124)\t1\n",
      "  (0, 8128)\t2\n",
      "  (0, 8241)\t1\n",
      "  (0, 10092)\t1\n",
      "  (0, 10791)\t2\n",
      "  (0, 11873)\t1\n",
      "  (0, 12038)\t2\n",
      "  (0, 12369)\t1\n",
      "  (0, 13170)\t1\n",
      "  (0, 13417)\t1\n",
      "  (0, 13651)\t1\n",
      "  (0, 14342)\t1\n",
      "  (0, 14376)\t2\n",
      "  (0, 14383)\t1\n",
      "  (0, 14709)\t2\n",
      "  :\t:\n",
      "  (2256, 17214)\t1\n",
      "  (2256, 17576)\t1\n",
      "  (2256, 17583)\t1\n",
      "  (2256, 17725)\t1\n",
      "  (2256, 17733)\t1\n",
      "  (2256, 17970)\t1\n",
      "  (2256, 19022)\t2\n",
      "  (2256, 20342)\t1\n",
      "  (2256, 21771)\t1\n",
      "  (2256, 22369)\t1\n",
      "  (2256, 23031)\t1\n",
      "  (2256, 23073)\t1\n",
      "  (2256, 24731)\t1\n",
      "  (2256, 25008)\t1\n",
      "  (2256, 25658)\t1\n",
      "  (2256, 25923)\t3\n",
      "  (2256, 26060)\t1\n",
      "  (2256, 26293)\t3\n",
      "  (2256, 26527)\t1\n",
      "  (2256, 26768)\t1\n",
      "  (2256, 27265)\t1\n",
      "  (2256, 28250)\t1\n",
      "  (2256, 28887)\t1\n",
      "  (2256, 30128)\t1\n",
      "  (2256, 30386)\t1\n"
     ]
    }
   ],
   "source": [
    "print(x_train_count)"
   ]
  },
  {
   "cell_type": "code",
   "execution_count": 4,
   "id": "971773f5",
   "metadata": {},
   "outputs": [
    {
     "data": {
      "text/plain": [
       "(1502, 30482)"
      ]
     },
     "execution_count": 4,
     "metadata": {},
     "output_type": "execute_result"
    }
   ],
   "source": [
    "x_test_count.shape"
   ]
  },
  {
   "cell_type": "code",
   "execution_count": 5,
   "id": "b1111de0",
   "metadata": {},
   "outputs": [],
   "source": []
  },
  {
   "cell_type": "code",
   "execution_count": 6,
   "id": "4c23f44b",
   "metadata": {
    "scrolled": true
   },
   "outputs": [
    {
     "name": "stdout",
     "output_type": "stream",
     "text": [
      "  (0, 29646)\t0.04728728123850258\n",
      "  (0, 28947)\t0.10320987558561678\n",
      "  (0, 28696)\t0.07111316200246669\n",
      "  (0, 28673)\t0.09534201036277591\n",
      "  (0, 28409)\t0.12499073487561276\n",
      "  (0, 27641)\t0.1200758316716855\n",
      "  (0, 27426)\t0.05386091919421854\n",
      "  (0, 27406)\t0.09985392396080776\n",
      "  (0, 27244)\t0.09885872085777618\n",
      "  (0, 26527)\t0.01840677363566864\n",
      "  (0, 26160)\t0.07383239074753992\n",
      "  (0, 23790)\t0.07593831618324601\n",
      "  (0, 22290)\t0.09791457679895682\n",
      "  (0, 21854)\t0.03797896306193983\n",
      "  (0, 21607)\t0.14029773938256326\n",
      "  (0, 20983)\t0.11261252720957661\n",
      "  (0, 20965)\t0.07769266908807906\n",
      "  (0, 20342)\t0.01997833681952289\n",
      "  (0, 19659)\t0.03964839413846657\n",
      "  (0, 18423)\t0.21582857691298465\n",
      "  (0, 17358)\t0.10731722842291665\n",
      "  (0, 17196)\t0.018431283324557245\n",
      "  (0, 17149)\t0.03833708279461463\n",
      "  (0, 16814)\t0.2805954787651265\n",
      "  (0, 16549)\t0.03797896306193983\n",
      "  :\t:\n",
      "  (2256, 14756)\t0.10599714272373967\n",
      "  (2256, 14565)\t0.17128297054893032\n",
      "  (2256, 13759)\t0.08347178569414156\n",
      "  (2256, 12360)\t0.09006003028297684\n",
      "  (2256, 11677)\t0.07437880675966611\n",
      "  (2256, 11550)\t0.07781228590518431\n",
      "  (2256, 11532)\t0.09940889813490437\n",
      "  (2256, 11360)\t0.05639943547375902\n",
      "  (2256, 11348)\t0.07688354110530626\n",
      "  (2256, 10587)\t0.044620688829724885\n",
      "  (2256, 10421)\t0.6209544502685971\n",
      "  (2256, 9919)\t0.11725982123853873\n",
      "  (2256, 7991)\t0.11258538731257496\n",
      "  (2256, 7976)\t0.10895961467497688\n",
      "  (2256, 7718)\t0.04910189630279061\n",
      "  (2256, 7505)\t0.09614827817753026\n",
      "  (2256, 7500)\t0.06217697148136161\n",
      "  (2256, 6364)\t0.08039686616304761\n",
      "  (2256, 5326)\t0.264438658860316\n",
      "  (2256, 5265)\t0.04326564963325766\n",
      "  (2256, 4449)\t0.02899305793515333\n",
      "  (2256, 3625)\t0.09769693616017781\n",
      "  (2256, 3524)\t0.12384806582737402\n",
      "  (2256, 3036)\t0.11725982123853873\n",
      "  (2256, 423)\t0.05787150913344951\n"
     ]
    }
   ],
   "source": [
    "print(x_train)"
   ]
  },
  {
   "cell_type": "code",
   "execution_count": 7,
   "id": "42831b2f",
   "metadata": {},
   "outputs": [
    {
     "data": {
      "text/plain": [
       "(1502, 30482)"
      ]
     },
     "execution_count": 7,
     "metadata": {},
     "output_type": "execute_result"
    }
   ],
   "source": [
    "x_test.shape"
   ]
  },
  {
   "cell_type": "code",
   "execution_count": 8,
   "id": "3a74af08",
   "metadata": {},
   "outputs": [
    {
     "name": "stdout",
     "output_type": "stream",
     "text": [
      "                        precision    recall  f1-score   support\n",
      "\n",
      "           alt.atheism       0.96      0.72      0.82       319\n",
      "soc.religion.christian       0.94      0.96      0.95       389\n",
      "         comp.graphics       0.95      0.88      0.91       396\n",
      "               sci.med       0.78      0.97      0.87       398\n",
      "\n",
      "              accuracy                           0.89      1502\n",
      "             macro avg       0.91      0.88      0.89      1502\n",
      "          weighted avg       0.90      0.89      0.89      1502\n",
      "\n"
     ]
    }
   ],
   "source": [
    "# 朴素贝叶斯分类\n",
    "from sklearn.metrics import accuracy_score,f1_score,recall_score,precision_score\n",
    "from sklearn.naive_bayes import MultinomialNB\n",
    "from sklearn.metrics import classification_report\n",
    "text_clf =MultinomialNB()\n",
    "text_clf.fit(x_train, twenty_train.target)\n",
    "predicted = text_clf.predict(x_test)\n",
    "print(classification_report(twenty_test.target, predicted, target_names=categories))\n",
    "acc_score1=accuracy_score(predicted,twenty_test.target)\n",
    "recall_score1=recall_score(predicted,twenty_test.target,average='macro')\n",
    "f1_score1=f1_score(predicted,twenty_test.target,average='macro')\n",
    "pre_score1=precision_score(predicted,twenty_test.target,average='macro')"
   ]
  },
  {
   "cell_type": "code",
   "execution_count": 18,
   "id": "76bd0314",
   "metadata": {},
   "outputs": [
    {
     "name": "stdout",
     "output_type": "stream",
     "text": [
      "                        precision    recall  f1-score   support\n",
      "\n",
      "           alt.atheism       0.96      0.80      0.87       319\n",
      "soc.religion.christian       0.87      0.98      0.93       389\n",
      "         comp.graphics       0.95      0.89      0.92       396\n",
      "               sci.med       0.89      0.95      0.92       398\n",
      "\n",
      "              accuracy                           0.91      1502\n",
      "             macro avg       0.92      0.91      0.91      1502\n",
      "          weighted avg       0.92      0.91      0.91      1502\n",
      "\n"
     ]
    }
   ],
   "source": [
    "# 随机梯度下降分类器\n",
    "from sklearn.metrics import accuracy_score,f1_score,recall_score,precision_score\n",
    "from sklearn.linear_model import SGDClassifier\n",
    "from sklearn.metrics import classification_report\n",
    "text_clf =SGDClassifier(loss='hinge',penalty='l2',\n",
    "                         alpha=1e-3, random_state=42,\n",
    "                          max_iter=1000, tol=None)\n",
    "text_clf.fit(x_train, twenty_train.target)\n",
    "predicted = text_clf.predict(x_test)\n",
    "print(classification_report(twenty_test.target, predicted, target_names=categories))\n",
    "acc_score2=accuracy_score(predicted,twenty_test.target)\n",
    "recall_score2=recall_score(predicted,twenty_test.target,average='macro')\n",
    "f1_score2=f1_score(predicted,twenty_test.target,average='macro')\n",
    "pre_score2=precision_score(predicted,twenty_test.target,average='macro')"
   ]
  },
  {
   "cell_type": "code",
   "execution_count": 10,
   "id": "2db8cb54",
   "metadata": {},
   "outputs": [
    {
     "name": "stdout",
     "output_type": "stream",
     "text": [
      "                        precision    recall  f1-score   support\n",
      "\n",
      "           alt.atheism       0.79      0.86      0.83       319\n",
      "soc.religion.christian       0.85      0.88      0.86       389\n",
      "         comp.graphics       0.84      0.75      0.80       396\n",
      "               sci.med       0.84      0.85      0.85       398\n",
      "\n",
      "              accuracy                           0.83      1502\n",
      "             macro avg       0.83      0.84      0.83      1502\n",
      "          weighted avg       0.84      0.83      0.83      1502\n",
      "\n"
     ]
    }
   ],
   "source": [
    "# KNN分类器\n",
    "from sklearn.metrics import accuracy_score,f1_score,recall_score,precision_score\n",
    "from sklearn.metrics import classification_report\n",
    "from sklearn.neighbors import KNeighborsClassifier\n",
    "text_clf =KNeighborsClassifier()\n",
    "text_clf.fit(x_train, twenty_train.target)\n",
    "predicted = text_clf.predict(x_test)\n",
    "print(classification_report(twenty_test.target, predicted, target_names=categories))\n",
    "acc_score3=accuracy_score(predicted,twenty_test.target)\n",
    "recall_score3=recall_score(predicted,twenty_test.target,average='macro')\n",
    "f1_score3=f1_score(predicted,twenty_test.target,average='macro')\n",
    "pre_score3=precision_score(predicted,twenty_test.target,average='macro')"
   ]
  },
  {
   "cell_type": "code",
   "execution_count": 11,
   "id": "0c1ab122",
   "metadata": {},
   "outputs": [
    {
     "name": "stdout",
     "output_type": "stream",
     "text": [
      "                        precision    recall  f1-score   support\n",
      "\n",
      "           alt.atheism       0.97      0.74      0.84       319\n",
      "soc.religion.christian       0.86      0.98      0.92       389\n",
      "         comp.graphics       0.93      0.90      0.92       396\n",
      "               sci.med       0.88      0.96      0.92       398\n",
      "\n",
      "              accuracy                           0.90      1502\n",
      "             macro avg       0.91      0.89      0.90      1502\n",
      "          weighted avg       0.91      0.90      0.90      1502\n",
      "\n"
     ]
    }
   ],
   "source": [
    "from sklearn.metrics import accuracy_score,f1_score,recall_score,precision_score\n",
    "from sklearn.svm import SVC\n",
    "text_clf =SVC(decision_function_shape = 'ovo')\n",
    "text_clf.fit(x_train, twenty_train.target)\n",
    "predicted = text_clf.predict(x_test)\n",
    "print(classification_report(twenty_test.target, predicted, target_names=categories))\n",
    "acc_score4=accuracy_score(predicted,twenty_test.target)\n",
    "recall_score4=recall_score(predicted,twenty_test.target,average='macro')\n",
    "f1_score4=f1_score(predicted,twenty_test.target,average='macro')\n",
    "pre_score4=precision_score(predicted,twenty_test.target,average='macro')"
   ]
  },
  {
   "cell_type": "code",
   "execution_count": 15,
   "id": "5f6a3a06",
   "metadata": {},
   "outputs": [
    {
     "data": {
      "image/png": "[encoded data removed]",
      "text/plain": [
       "<Figure size 432x288 with 1 Axes>"
      ]
     },
     "metadata": {
      "needs_background": "light"
     },
     "output_type": "display_data"
    }
   ],
   "source": [
    "import matplotlib.pyplot as plt\n",
    "import numpy as np\n",
    "\n",
    "Mul_score=[acc_score1,recall_score1,f1_score1,pre_score1]\n",
    "SGD_score=[acc_score2,recall_score2,f1_score2,pre_score2]\n",
    "KNN_score=[acc_score3,recall_score3,f1_score3,pre_score3]\n",
    "SVM_score=[acc_score4,recall_score4,f1_score4,pre_score4]\n",
    "\n",
    "score=['accuracy','recall','f1','precision']\n",
    "plt.plot(score, Mul_score, color=\"r\", linestyle=\"-\", \n",
    "         marker=\"^\", linewidth=1, label=\"MultinomialNB\")\n",
    "plt.plot(score, SGD_score, color=\"b\", linestyle=\"-\",\n",
    "         marker=\"s\", linewidth=1, label=\"SGDClassifier\")\n",
    "plt.plot(score, KNN_score, color=\"g\", linestyle=\"-\",\n",
    "         marker=\"s\", linewidth=1, label=\"KNNClassifier\")\n",
    "plt.plot(score, SVM_score, color=\"y\", linestyle=\"-\",\n",
    "         marker=\"s\", linewidth=1, label=\"SVMClassifier\")\n",
    "plt.legend()\n",
    "plt.ylabel(\"Score\", loc='center')\n",
    "plt.xlabel(\"Metrics\", loc='center')\n",
    "plt.title(\"BOW_CLS\")\n",
    "\n",
    "plt.show()"
   ]
  },
  {
   "cell_type": "code",
   "execution_count": 49,
   "id": "0b46c6d8",
   "metadata": {},
   "outputs": [],
   "source": [
    "from sklearn.metrics import accuracy_score,f1_score,recall_score,precision_score\n",
    "from sklearn.linear_model import SGDClassifier\n",
    "acc_score=[]\n",
    "re_score=[]\n",
    "f_score=[]\n",
    "pre_score=[]\n",
    "Alpha=[]\n",
    "for i in range(20):\n",
    "    alpha=0.000001*(i+1)*2\n",
    "    Alpha.append(alpha)\n",
    "    text_clf =SGDClassifier(loss='hinge',penalty='l2',\n",
    "                             alpha=alpha, random_state=42,\n",
    "                              max_iter=1000, tol=None)\n",
    "    text_clf.fit(x_train, twenty_train.target)\n",
    "    predicted = text_clf.predict(x_test)\n",
    "    acc_score.append(accuracy_score(predicted,twenty_test.target))\n",
    "    re_score.append(recall_score(predicted,twenty_test.target,average='macro'))\n",
    "    f_score.append(f1_score(predicted,twenty_test.target,average='macro'))\n",
    "    pre_score.append(precision_score(predicted,twenty_test.target,average='macro'))"
   ]
  },
  {
   "cell_type": "code",
   "execution_count": 50,
   "id": "960320c8",
   "metadata": {},
   "outputs": [
    {
     "data": {
      "text/plain": [
       "[2e-06,\n",
       " 4e-06,\n",
       " 6e-06,\n",
       " 8e-06,\n",
       " 9.999999999999999e-06,\n",
       " 1.2e-05,\n",
       " 1.4e-05,\n",
       " 1.6e-05,\n",
       " 1.8e-05,\n",
       " 1.9999999999999998e-05,\n",
       " 2.2e-05,\n",
       " 2.4e-05,\n",
       " 2.6e-05,\n",
       " 2.8e-05,\n",
       " 2.9999999999999997e-05,\n",
       " 3.2e-05,\n",
       " 3.4e-05,\n",
       " 3.6e-05,\n",
       " 3.7999999999999995e-05,\n",
       " 3.9999999999999996e-05]"
      ]
     },
     "execution_count": 50,
     "metadata": {},
     "output_type": "execute_result"
    }
   ],
   "source": [
    "Alpha"
   ]
  },
  {
   "cell_type": "code",
   "execution_count": 51,
   "id": "7e9bfdee",
   "metadata": {},
   "outputs": [
    {
     "data": {
      "image/png": "[encoded data removed]",
      "text/plain": [
       "<Figure size 432x288 with 1 Axes>"
      ]
     },
     "metadata": {
      "needs_background": "light"
     },
     "output_type": "display_data"
    }
   ],
   "source": [
    "import matplotlib.pyplot as plt\n",
    "import numpy as np\n",
    "\n",
    "\n",
    "plt.plot(Alpha, acc_score, color=\"r\", linestyle=\"-\", \n",
    "         marker=\"^\", linewidth=1, label=\"accuracy\")\n",
    "plt.plot(Alpha, re_score, color=\"b\", linestyle=\"-\",\n",
    "         marker=\"s\", linewidth=1, label=\"recall_score\")\n",
    "plt.plot(Alpha, f_score, color=\"g\", linestyle=\"-\",\n",
    "         marker=\"s\", linewidth=1, label=\"f1_score\")\n",
    "plt.plot(Alpha, pre_score, color=\"y\", linestyle=\"-\",\n",
    "         marker=\"s\", linewidth=1, label=\"precision_score\")\n",
    "plt.legend()\n",
    "plt.ylabel(\"Metrics\", loc='center')\n",
    "plt.xlabel(\"Alpha\", loc='center')\n",
    "plt.title(\"BOW_SGD_CLS\")\n",
    "\n",
    "plt.show()"
   ]
  },
  {
   "cell_type": "code",
   "execution_count": 52,
   "id": "f471bd6a",
   "metadata": {},
   "outputs": [],
   "source": [
    "from sklearn.feature_extraction.text import CountVectorizer\n",
    "# 在测试集上的性能评估\n",
    "import numpy as np\n",
    "Counter1 = CountVectorizer()\n",
    "Counter1.fit(twenty_train.data)\n",
    "Counter1.fit(twenty_test.data)\n",
    "x_train_count1=Counter1.transform(twenty_train.data)\n",
    "x_test_count1=Counter1.transform(twenty_test.data)\n",
    "from sklearn.feature_extraction.text import TfidfTransformer\n",
    "tfidfer1 = TfidfTransformer()\n",
    "tfidfer1.fit(x_train_count1)\n",
    "tfidfer1.fit(x_test_count1)\n",
    "x_train1=tfidfer1.transform(x_train_count1)\n",
    "x_test1=tfidfer1.transform(x_test_count1)\n",
    "\n",
    "# 朴素贝叶斯分类\n",
    "from sklearn.metrics import accuracy_score,f1_score,recall_score,precision_score\n",
    "from sklearn.naive_bayes import \n",
    "from sklearn.metrics import classification_report\n",
    "text_clf =MultinomialNB()\n",
    "text_clf.fit(x_train1, twenty_train.target)\n",
    "predicted = text_clf.predict(x_test1)\n",
    "acc_score1_1=accuracy_score(predicted,twenty_test.target)\n",
    "recall_score1_1=recall_score(predicted,twenty_test.target,average='macro')\n",
    "f1_score1_1=f1_score(predicted,twenty_test.target,average='macro')\n",
    "pre_score1_1=precision_score(predicted,twenty_test.target,average='macro')\n",
    "\n",
    "# 随机梯度下降分类器\n",
    "from sklearn.metrics import accuracy_score,f1_score,recall_score,precision_score\n",
    "from sklearn.linear_model import SGDClassifier\n",
    "from sklearn.metrics import classification_report\n",
    "text_clf =SGDClassifier(loss='hinge',penalty='l2',\n",
    "                         alpha=1e-3, random_state=42,\n",
    "                          max_iter=1000, tol=None)\n",
    "text_clf.fit(x_train1, twenty_train.target)\n",
    "predicted = text_clf.predict(x_test1)\n",
    "acc_score2_1=accuracy_score(predicted,twenty_test.target)\n",
    "recall_score2_1=recall_score(predicted,twenty_test.target,average='macro')\n",
    "f1_score2_1=f1_score(predicted,twenty_test.target,average='macro')\n",
    "pre_score2_1=precision_score(predicted,twenty_test.target,average='macro')\n",
    "\n",
    "# KNN分类器\n",
    "from sklearn.metrics import accuracy_score,f1_score,recall_score,precision_score\n",
    "from sklearn.metrics import classification_report\n",
    "from sklearn.neighbors import KNeighborsClassifier\n",
    "text_clf =KNeighborsClassifier()\n",
    "text_clf.fit(x_train1, twenty_train.target)\n",
    "predicted = text_clf.predict(x_test1)\n",
    "acc_score3_1=accuracy_score(predicted,twenty_test.target)\n",
    "recall_score3_1=recall_score(predicted,twenty_test.target,average='macro')\n",
    "f1_score3_1=f1_score(predicted,twenty_test.target,average='macro')\n",
    "pre_score3_1=precision_score(predicted,twenty_test.target,average='macro')\n",
    "\n",
    "\n",
    "from sklearn.metrics import accuracy_score,f1_score,recall_score,precision_score\n",
    "from sklearn.svm import SVC\n",
    "text_clf =SVC(decision_function_shape = 'ovo')\n",
    "text_clf.fit(x_train1, twenty_train.target)\n",
    "predicted = text_clf.predict(x_test1)\n",
    "acc_score4_1=accuracy_score(predicted,twenty_test.target)\n",
    "recall_score4_1=recall_score(predicted,twenty_test.target,average='macro')\n",
    "f1_score4_1=f1_score(predicted,twenty_test.target,average='macro')\n",
    "pre_score4_1=precision_score(predicted,twenty_test.target,average='macro')"
   ]
  },
  {
   "cell_type": "code",
   "execution_count": 63,
   "id": "48893ca3",
   "metadata": {},
   "outputs": [
    {
     "data": {
      "image/png": "[encoded data removed]",
      "text/plain": [
       "<Figure size 432x288 with 1 Axes>"
      ]
     },
     "metadata": {
      "needs_background": "light"
     },
     "output_type": "display_data"
    }
   ],
   "source": [
    "Mul_score_1=[acc_score1_1,recall_score1_1,f1_score1_1,pre_score1_1]\n",
    "SGD_score_1=[acc_score2_1,recall_score2_1,f1_score2_1,pre_score2_1]\n",
    "KNN_score_1=[acc_score3_1,recall_score3_1,f1_score3_1,pre_score3_1]\n",
    "SVM_score_1=[acc_score4_1,recall_score4_1,f1_score4_1,pre_score4_1]\n",
    "\n",
    "import matplotlib.pyplot as plt\n",
    "\n",
    "name_list = ['accuracy','recall','f1','precision']\n",
    "x =list(range(len(num_list)))\n",
    "total_width, n = 0.8, 2\n",
    "width = total_width / n\n",
    "plt.title(\"BOW_Mul_CLS\")\n",
    "plt.bar(x, Mul_score, width=width, label='stopwords',fc = 'r')\n",
    "for i in range(len(x)):\n",
    "    x[i] = x[i] + width\n",
    "plt.bar(x, Mul_score_1, width=width, label='no_stop_words',\n",
    "        tick_label = name_list,fc = 'y')\n",
    "\n",
    "plt.ylim(0.7,1)\n",
    "plt.xlabel(\"Metrics\", loc='center')\n",
    "plt.ylabel(\"score\", loc='center')\n",
    "plt.legend()\n",
    "plt.show()\n"
   ]
  },
  {
   "cell_type": "code",
   "execution_count": 64,
   "id": "a41893ad",
   "metadata": {},
   "outputs": [
    {
     "data": {
      "image/png": "[encoded data removed]",
      "text/plain": [
       "<Figure size 432x288 with 1 Axes>"
      ]
     },
     "metadata": {
      "needs_background": "light"
     },
     "output_type": "display_data"
    }
   ],
   "source": [
    "name_list = ['accuracy','recall','f1','precision']\n",
    "x =list(range(len(num_list)))\n",
    "total_width, n = 0.8, 2\n",
    "width = total_width / n\n",
    "plt.title(\"BOW_SGD_CLS\")\n",
    "plt.bar(x, SGD_score, width=width, label='stopwords',fc = 'r')\n",
    "for i in range(len(x)):\n",
    "    x[i] = x[i] + width\n",
    "plt.bar(x, SGD_score_1, width=width, label='no_stop_words',\n",
    "        tick_label = name_list,fc = 'y')\n",
    "\n",
    "plt.ylim(0.7,1)\n",
    "plt.xlabel(\"Metrics\", loc='center')\n",
    "plt.ylabel(\"score\", loc='center')\n",
    "plt.legend()\n",
    "plt.show()"
   ]
  },
  {
   "cell_type": "code",
   "execution_count": 66,
   "id": "cdda5d88",
   "metadata": {},
   "outputs": [
    {
     "data": {
      "image/png": "[encoded data removed]",
      "text/plain": [
       "<Figure size 432x288 with 1 Axes>"
      ]
     },
     "metadata": {
      "needs_background": "light"
     },
     "output_type": "display_data"
    }
   ],
   "source": [
    "name_list = ['accuracy','recall','f1','precision']\n",
    "x =list(range(len(num_list)))\n",
    "total_width, n = 0.8, 2\n",
    "width = total_width / n\n",
    "plt.title(\"BOW_KNN_CLS\")\n",
    "plt.bar(x, KNN_score, width=width, label='stopwords',fc = 'r')\n",
    "for i in range(len(x)):\n",
    "    x[i] = x[i] + width\n",
    "plt.bar(x, KNN_score_1, width=width, label='no_stop_words',\n",
    "        tick_label = name_list,fc = 'y')\n",
    "\n",
    "plt.ylim(0.7,1)\n",
    "plt.xlabel(\"Metrics\", loc='center')\n",
    "plt.ylabel(\"score\", loc='center')\n",
    "plt.legend()\n",
    "plt.show()"
   ]
  },
  {
   "cell_type": "code",
   "execution_count": 67,
   "id": "b5c0ff12",
   "metadata": {},
   "outputs": [
    {
     "data": {
      "image/png": "[encoded data removed]",
      "text/plain": [
       "<Figure size 432x288 with 1 Axes>"
      ]
     },
     "metadata": {
      "needs_background": "light"
     },
     "output_type": "display_data"
    }
   ],
   "source": [
    "name_list = ['accuracy','recall','f1','precision']\n",
    "x =list(range(len(num_list)))\n",
    "total_width, n = 0.8, 2\n",
    "width = total_width / n\n",
    "plt.title(\"BOW_SVC_CLS\")\n",
    "plt.bar(x, SVM_score, width=width, label='stopwords',fc = 'r')\n",
    "for i in range(len(x)):\n",
    "    x[i] = x[i] + width\n",
    "plt.bar(x, SVM_score_1, width=width, label='no_stop_words',\n",
    "        tick_label = name_list,fc = 'y')\n",
    "\n",
    "plt.ylim(0.7,1)\n",
    "plt.xlabel(\"Metrics\", loc='center')\n",
    "plt.ylabel(\"score\", loc='center')\n",
    "plt.legend()\n",
    "plt.show()"
   ]
  },
  {
   "cell_type": "code",
   "execution_count": null,
   "id": "a21becf5",
   "metadata": {},
   "outputs": [],
   "source": []
  }
 ],
 "metadata": {
  "kernelspec": {
   "display_name": "Python 3",
   "language": "python",
   "name": "python3"
  },
  "language_info": {
   "codemirror_mode": {
    "name": "ipython",
    "version": 3
   },
   "file_extension": ".py",
   "mimetype": "text/x-python",
   "name": "python",
   "nbconvert_exporter": "python",
   "pygments_lexer": "ipython3",
   "version": "3.8.8"
  }
 },
 "nbformat": 4,
 "nbformat_minor": 5
}
